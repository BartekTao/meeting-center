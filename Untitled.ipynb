{
 "cells": [
  {
   "cell_type": "code",
   "execution_count": 21,
   "id": "22d7bf4d",
   "metadata": {},
   "outputs": [
    {
     "ename": "ValueError",
     "evalue": "could not convert string to float: 'T:'",
     "output_type": "error",
     "traceback": [
      "\u001b[0;31m---------------------------------------------------------------------------\u001b[0m",
      "\u001b[0;31mValueError\u001b[0m                                Traceback (most recent call last)",
      "\u001b[0;32m/var/folders/43/4wrqrzv11kg2t_g_f3kp5wjm0000gn/T/ipykernel_53733/1891939835.py\u001b[0m in \u001b[0;36m<module>\u001b[0;34m\u001b[0m\n\u001b[1;32m     24\u001b[0m \u001b[0;34m\u001b[0m\u001b[0m\n\u001b[1;32m     25\u001b[0m \u001b[0;31m# Extract \"Best test acc\" values and convert them to a list of floats\u001b[0m\u001b[0;34m\u001b[0m\u001b[0;34m\u001b[0m\u001b[0m\n\u001b[0;32m---> 26\u001b[0;31m \u001b[0mtest_acc_values\u001b[0m \u001b[0;34m=\u001b[0m \u001b[0;34m[\u001b[0m\u001b[0mfloat\u001b[0m\u001b[0;34m(\u001b[0m\u001b[0mline\u001b[0m\u001b[0;34m.\u001b[0m\u001b[0msplit\u001b[0m\u001b[0;34m(\u001b[0m\u001b[0;34m\" | \"\u001b[0m\u001b[0;34m)\u001b[0m\u001b[0;34m[\u001b[0m\u001b[0;36m3\u001b[0m\u001b[0;34m]\u001b[0m\u001b[0;34m.\u001b[0m\u001b[0msplit\u001b[0m\u001b[0;34m(\u001b[0m\u001b[0;34m\" \"\u001b[0m\u001b[0;34m)\u001b[0m\u001b[0;34m[\u001b[0m\u001b[0;34m-\u001b[0m\u001b[0;36m3\u001b[0m\u001b[0;34m]\u001b[0m\u001b[0;34m)\u001b[0m \u001b[0;32mfor\u001b[0m \u001b[0mline\u001b[0m \u001b[0;32min\u001b[0m \u001b[0mdata\u001b[0m\u001b[0;34m]\u001b[0m\u001b[0;34m\u001b[0m\u001b[0;34m\u001b[0m\u001b[0m\n\u001b[0m\u001b[1;32m     27\u001b[0m \u001b[0;34m\u001b[0m\u001b[0m\n\u001b[1;32m     28\u001b[0m \u001b[0;31m# Sort the list in ascending order\u001b[0m\u001b[0;34m\u001b[0m\u001b[0;34m\u001b[0m\u001b[0m\n",
      "\u001b[0;32m/var/folders/43/4wrqrzv11kg2t_g_f3kp5wjm0000gn/T/ipykernel_53733/1891939835.py\u001b[0m in \u001b[0;36m<listcomp>\u001b[0;34m(.0)\u001b[0m\n\u001b[1;32m     24\u001b[0m \u001b[0;34m\u001b[0m\u001b[0m\n\u001b[1;32m     25\u001b[0m \u001b[0;31m# Extract \"Best test acc\" values and convert them to a list of floats\u001b[0m\u001b[0;34m\u001b[0m\u001b[0;34m\u001b[0m\u001b[0m\n\u001b[0;32m---> 26\u001b[0;31m \u001b[0mtest_acc_values\u001b[0m \u001b[0;34m=\u001b[0m \u001b[0;34m[\u001b[0m\u001b[0mfloat\u001b[0m\u001b[0;34m(\u001b[0m\u001b[0mline\u001b[0m\u001b[0;34m.\u001b[0m\u001b[0msplit\u001b[0m\u001b[0;34m(\u001b[0m\u001b[0;34m\" | \"\u001b[0m\u001b[0;34m)\u001b[0m\u001b[0;34m[\u001b[0m\u001b[0;36m3\u001b[0m\u001b[0;34m]\u001b[0m\u001b[0;34m.\u001b[0m\u001b[0msplit\u001b[0m\u001b[0;34m(\u001b[0m\u001b[0;34m\" \"\u001b[0m\u001b[0;34m)\u001b[0m\u001b[0;34m[\u001b[0m\u001b[0;34m-\u001b[0m\u001b[0;36m3\u001b[0m\u001b[0;34m]\u001b[0m\u001b[0;34m)\u001b[0m \u001b[0;32mfor\u001b[0m \u001b[0mline\u001b[0m \u001b[0;32min\u001b[0m \u001b[0mdata\u001b[0m\u001b[0;34m]\u001b[0m\u001b[0;34m\u001b[0m\u001b[0;34m\u001b[0m\u001b[0m\n\u001b[0m\u001b[1;32m     27\u001b[0m \u001b[0;34m\u001b[0m\u001b[0m\n\u001b[1;32m     28\u001b[0m \u001b[0;31m# Sort the list in ascending order\u001b[0m\u001b[0;34m\u001b[0m\u001b[0;34m\u001b[0m\u001b[0m\n",
      "\u001b[0;31mValueError\u001b[0m: could not convert string to float: 'T:'"
     ]
    }
   ],
   "source": [
    "data = [\n",
    "    \"\"\"\n",
    "        T: 2023-11-23 08:27:42 | lr: 0.05 | Best train acc: 100.0 at 24 | Best test acc: 98.59 at 52\n",
    "        T: 2023-11-23 08:33:29 | lr: 0.05 | Best train acc: 100.0 at 23 | Best test acc: 98.71 at 27\n",
    "        T: 2023-11-23 08:39:17 | lr: 0.05 | Best train acc: 100.0 at 20 | Best test acc: 98.62 at 30\n",
    "        T: 2023-11-23 08:45:01 | lr: 0.05 | Best train acc: 100.0 at 22 | Best test acc: 98.51 at 37\n",
    "        T: 2023-11-23 08:50:48 | lr: 0.05 | Best train acc: 100.0 at 24 | Best test acc: 98.65 at 46\n",
    "        T: 2023-11-23 08:56:35 | lr: 0.05 | Best train acc: 100.0 at 22 | Best test acc: 98.56 at 23\n",
    "        T: 2023-11-23 09:02:23 | lr: 0.05 | Best train acc: 100.0 at 22 | Best test acc: 98.45 at 25\n",
    "        T: 2023-11-23 09:08:09 | lr: 0.05 | Best train acc: 100.0 at 23 | Best test acc: 98.64 at 85\n",
    "        T: 2023-11-23 09:13:57 | lr: 0.05 | Best train acc: 100.0 at 23 | Best test acc: 98.80 at 27\n",
    "        T: 2023-11-23 09:19:45 | lr: 0.05 | Best train acc: 100.0 at 20 | Best test acc: 98.60 at 26\n",
    "        T: 2023-11-23 09:25:33 | lr: 0.05 | Best train acc: 100.0 at 25 | Best test acc: 98.58 at 43\n",
    "        T: 2023-11-23 09:31:23 | lr: 0.05 | Best train acc: 100.0 at 21 | Best test acc: 98.52 at 59\n",
    "        T: 2023-11-23 09:37:10 | lr: 0.05 | Best train acc: 100.0 at 25 | Best test acc: 98.60 at 27\n",
    "        T: 2023-11-23 09:42:58 | lr: 0.05 | Best train acc: 100.0 at 23 | Best test acc: 98.53 at 15\n",
    "        T: 2023-11-23 09:48:45 | lr: 0.05 | Best train acc: 100.0 at 24 | Best test acc: 98.58 at 29\n",
    "        T: 2023-11-23 09:54:33 | lr: 0.05 | Best train acc: 100.0 at 23 | Best test acc: 98.63 at 68\n",
    "        T: 2023-11-23 10:00:22 | lr: 0.05 | Best train acc: 100.0 at 22 | Best test acc: 98.69 at 34\n",
    "        T: 2023-11-23 10:06:09 | lr: 0.05 | Best train acc: 100.0 at 24 | Best test acc: 98.57 at 34\n",
    "        T: 2023-11-23 10:11:56 | lr: 0.05 | Best train acc: 100.0 at 22 | Best test acc: 98.48 at 25\n",
    "    \"\"\"\n",
    "]\n",
    "\n",
    "# Extract \"Best test acc\" values and convert them to a list of floats\n",
    "test_acc_values = [float(line.split(\" | \")[3].split(\" \")[-3]) for line in data]\n",
    "\n",
    "# Sort the list in ascending order\n",
    "sorted_test_acc_values = sorted(test_acc_values)\n",
    "\n",
    "print(sorted_test_acc_values)\n"
   ]
  },
  {
   "cell_type": "code",
   "execution_count": null,
   "id": "10037af5",
   "metadata": {},
   "outputs": [],
   "source": []
  }
 ],
 "metadata": {
  "kernelspec": {
   "display_name": "Python 3 (ipykernel)",
   "language": "python",
   "name": "python3"
  },
  "language_info": {
   "codemirror_mode": {
    "name": "ipython",
    "version": 3
   },
   "file_extension": ".py",
   "mimetype": "text/x-python",
   "name": "python",
   "nbconvert_exporter": "python",
   "pygments_lexer": "ipython3",
   "version": "3.9.7"
  }
 },
 "nbformat": 4,
 "nbformat_minor": 5
}
